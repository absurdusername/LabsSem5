{
 "cells": [
  {
   "cell_type": "markdown",
   "metadata": {},
   "source": [
    "[Covertype dataset](https://archive.ics.uci.edu/dataset/31/covertype) on UCI ML Repository"
   ]
  },
  {
   "cell_type": "code",
   "execution_count": null,
   "metadata": {},
   "outputs": [],
   "source": [
    "from pyspark.sql import SparkSession\n",
    "spark = SparkSession.builder.getOrCreate()"
   ]
  },
  {
   "cell_type": "markdown",
   "metadata": {},
   "source": [
    "### Read the dataset"
   ]
  },
  {
   "cell_type": "code",
   "execution_count": 2,
   "metadata": {},
   "outputs": [],
   "source": [
    "colnames = [\"Elevation\", \"Aspect\", \"Slope\", \\\n",
    "\"Horizontal_Distance_To_Hydrology\", \\\n",
    "\"Vertical_Distance_To_Hydrology\", \"Horizontal_Distance_To_Roadways\",\n",
    "\"Hillshade_9am\", \"Hillshade_Noon\", \"Hillshade_3pm\", \\\n",
    "\"Horizontal_Distance_To_Fire_Points\"] + \\\n",
    "[f\"Wilderness_Area_{i}\" for i in range(4)] + \\\n",
    "[f\"Soil_Type_{i}\" for i in range(40)] + \\\n",
    "[\"Cover_Type\"]\n",
    "\n",
    "# alternatively, colnames = df.schema.names"
   ]
  },
  {
   "cell_type": "code",
   "execution_count": 3,
   "metadata": {},
   "outputs": [
    {
     "name": "stderr",
     "output_type": "stream",
     "text": [
      "                                                                                \r"
     ]
    }
   ],
   "source": [
    "df = spark.read.csv(\"data/covertype/covtype.data.gz\", header=False, inferSchema=True)\n",
    "df = df.toDF(*colnames)\n",
    "\n",
    "df = df.na.drop() # handle missing values lol"
   ]
  },
  {
   "cell_type": "markdown",
   "metadata": {},
   "source": [
    "### Split into testing and training data"
   ]
  },
  {
   "cell_type": "code",
   "execution_count": null,
   "metadata": {},
   "outputs": [],
   "source": [
    "train_data, test_data = df.randomSplit([0.9, 0.1])\n",
    "train_data.cache()\n",
    "test_data.cache()"
   ]
  },
  {
   "cell_type": "markdown",
   "metadata": {},
   "source": [
    "### Collapse all those columns into a \"feature vector\""
   ]
  },
  {
   "cell_type": "code",
   "execution_count": 5,
   "metadata": {},
   "outputs": [
    {
     "name": "stderr",
     "output_type": "stream",
     "text": [
      "[Stage 2:>                                                          (0 + 1) / 1]\r"
     ]
    },
    {
     "name": "stdout",
     "output_type": "stream",
     "text": [
      "+--------------------------------------------------------------------------------------------------+\n",
      "|featureVector                                                                                     |\n",
      "+--------------------------------------------------------------------------------------------------+\n",
      "|(54,[0,1,2,3,4,5,6,7,8,9,13,15],[1859.0,18.0,12.0,67.0,11.0,90.0,211.0,215.0,139.0,792.0,1.0,1.0])|\n",
      "|(54,[0,1,2,3,4,5,6,7,8,9,13,15],[1860.0,18.0,13.0,95.0,15.0,90.0,210.0,213.0,138.0,780.0,1.0,1.0])|\n",
      "|(54,[0,1,2,3,4,5,6,7,8,9,13,15],[1861.0,35.0,14.0,60.0,11.0,85.0,218.0,209.0,124.0,832.0,1.0,1.0])|\n",
      "+--------------------------------------------------------------------------------------------------+\n",
      "only showing top 3 rows\n",
      "\n"
     ]
    },
    {
     "name": "stderr",
     "output_type": "stream",
     "text": [
      "                                                                                \r"
     ]
    }
   ],
   "source": [
    "from pyspark.ml.feature import VectorAssembler\n",
    "\n",
    "input_cols = colnames[:-1]\n",
    "vector_assembler = VectorAssembler(inputCols=input_cols, outputCol=\"featureVector\")\n",
    "\n",
    "assembled_train_data = vector_assembler.transform(train_data)\n",
    "assembled_test_data = vector_assembler.transform(test_data)\n",
    "\n",
    "assembled_train_data.select(\"featureVector\").show(3, truncate=False)"
   ]
  },
  {
   "cell_type": "markdown",
   "metadata": {},
   "source": [
    "### Train the model"
   ]
  },
  {
   "cell_type": "code",
   "execution_count": 6,
   "metadata": {},
   "outputs": [
    {
     "name": "stderr",
     "output_type": "stream",
     "text": [
      "                                                                                \r"
     ]
    },
    {
     "data": {
      "text/plain": [
       "'DecisionTreeClassificationModel: uid=DecisionTreeClassifier_ccfd0a4b041f, depth=5, numNodes=47, numClasses=8, numFeatures=54\\n  If (feature 0 <= 3047.5)\\n   If (feature 0 <= 2561.5)\\n    If (feature 10 <= 0.5)\\n     If (feature 0 <= 2450.5)\\n      If (feature 3 <= 15.0)\\n       Predict: 4.0\\n      Else (feature 3 > 15.0)\\n       Predict: 3.0\\n     Else (feature 0 > 2450.5)\\n      If (feature 17 <= 0.5)\\n       Predict: 2.0\\n      Else (feature 17 > 0.5)\\n       Predict: 3.0\\n    Else (feature 10 > 0.5)\\n     Predict: 2.0\\n   Else (feature 0 > 2561.5)\\n    If (feature 0 <= 2952.5)\\n     If (feature 15 <= 0.5)\\n      If (feature 17 <= 0.5)\\n       Predict: 2.0\\n      Else (feature 17 > 0.5)\\n       Predict: 3.0\\n     Else (feature 15 > 0.5)\\n      Predict: 3.0\\n    Else (feature 0 > 2952.5)\\n     If (feature 3 <= 211.0)\\n      If (feature 36 <= 0.5)\\n       Predict: 2.0\\n      Else (feature 36 > 0.5)\\n       Predict: 1.0\\n     Else (feature 3 > 211.0)\\n      Predict: 2.0\\n  Else (feature 0 > 3047.5)\\n   If (feature 0 <= 3322.5)\\n    If (feature 7 <= 240.5)\\n     If (feature 0 <= 3130.5)\\n      If (feature 45 <= 0.5)\\n       Predict: 1.0\\n      Else (feature 45 > 0.5)\\n       Predict: 2.0\\n     Else (feature 0 > 3130.5)\\n      Predict: 1.0\\n    Else (feature 7 > 240.5)\\n     If (feature 3 <= 340.5)\\n      Predict: 1.0\\n     Else (feature 3 > 340.5)\\n      If (feature 0 <= 3215.5)\\n       Predict: 2.0\\n      Else (feature 0 > 3215.5)\\n       Predict: 1.0\\n   Else (feature 0 > 3322.5)\\n    If (feature 12 <= 0.5)\\n     If (feature 3 <= 298.5)\\n      If (feature 8 <= 183.5)\\n       Predict: 7.0\\n      Else (feature 8 > 183.5)\\n       Predict: 1.0\\n     Else (feature 3 > 298.5)\\n      Predict: 1.0\\n    Else (feature 12 > 0.5)\\n     If (feature 45 <= 0.5)\\n      If (feature 44 <= 0.5)\\n       Predict: 7.0\\n      Else (feature 44 > 0.5)\\n       Predict: 1.0\\n     Else (feature 45 > 0.5)\\n      If (feature 5 <= 983.5)\\n       Predict: 7.0\\n      Else (feature 5 > 983.5)\\n       Predict: 1.0\\n'"
      ]
     },
     "execution_count": 6,
     "metadata": {},
     "output_type": "execute_result"
    }
   ],
   "source": [
    "from pyspark.ml.classification import DecisionTreeClassifier\n",
    "\n",
    "classifier = DecisionTreeClassifier(seed=1234, labelCol=colnames[-1], featuresCol=\"featureVector\", \n",
    "    predictionCol=\"prediction\")\n",
    "\n",
    "model = classifier.fit(assembled_train_data)\n",
    "model.toDebugString"
   ]
  },
  {
   "cell_type": "markdown",
   "metadata": {},
   "source": [
    "### Evaluate"
   ]
  },
  {
   "cell_type": "code",
   "execution_count": 7,
   "metadata": {},
   "outputs": [
    {
     "name": "stderr",
     "output_type": "stream",
     "text": [
      "[Stage 21:>                                                         (0 + 1) / 1]\r"
     ]
    },
    {
     "name": "stdout",
     "output_type": "stream",
     "text": [
      "accuracy 0.7037918369458382\n",
      "f1 0.686542263900111\n"
     ]
    },
    {
     "name": "stderr",
     "output_type": "stream",
     "text": [
      "                                                                                \r"
     ]
    }
   ],
   "source": [
    "from pyspark.ml.evaluation import MulticlassClassificationEvaluator\n",
    "\n",
    "predictions = model.transform(assembled_test_data)\n",
    "\n",
    "evaluator = MulticlassClassificationEvaluator(labelCol=colnames[-1], predictionCol=\"prediction\")\n",
    "accuracy = evaluator.setMetricName(\"accuracy\").evaluate(predictions)\n",
    "f1 = evaluator.setMetricName(\"f1\").evaluate(predictions)\n",
    "\n",
    "print(\"accuracy\", accuracy)\n",
    "print(\"f1\", f1)"
   ]
  },
  {
   "cell_type": "code",
   "execution_count": null,
   "metadata": {},
   "outputs": [
    {
     "name": "stdout",
     "output_type": "stream",
     "text": [
      "+----------+-----+-----+----+---+----+\n",
      "|Cover_Type|  1.0|  2.0| 3.0|4.0| 7.0|\n",
      "+----------+-----+-----+----+---+----+\n",
      "|         1|14620| 6002|  23|  0| 517|\n",
      "|         2| 5671|22074| 480| 10|  54|\n",
      "|         3|    0|  605|2866| 71|   0|\n",
      "|         4|    0|    4| 166|108|   0|\n",
      "|         5|    1|  885|  82|  0|   0|\n",
      "|         6|    0|  659| 944| 68|   0|\n",
      "|         7|  926|    2|   8|  0|1147|\n",
      "+----------+-----+-----+----+---+----+\n",
      "\n"
     ]
    }
   ],
   "source": [
    "confusion_matrix = predictions.groupBy(colnames[-1]) \\\n",
    "    .pivot(\"prediction\") \\\n",
    "    .count() \\\n",
    "    .fillna(0) \\\n",
    "    .orderBy(colnames[-1])\n",
    "\n",
    "confusion_matrix.show()"
   ]
  },
  {
   "cell_type": "markdown",
   "metadata": {},
   "source": [
    "### Hyperparameter Tuning\n",
    "\n",
    "Not in manual again."
   ]
  },
  {
   "cell_type": "code",
   "execution_count": 9,
   "metadata": {},
   "outputs": [],
   "source": [
    "from pyspark.ml import Pipeline\n",
    "\n",
    "assembler = VectorAssembler(inputCols=colnames[:-1], outputCol=\"featureVector\")\n",
    "classifier = DecisionTreeClassifier(featuresCol=\"featureVector\", labelCol=colnames[-1], predictionCol=\"prediction\")\n",
    "pipeline = Pipeline(stages=[assembler, classifier])"
   ]
  },
  {
   "cell_type": "markdown",
   "metadata": {},
   "source": [
    "`TrainValidationSplit` is like `CrossValidator`, but it performs the split only once. Good for speed."
   ]
  },
  {
   "cell_type": "code",
   "execution_count": null,
   "metadata": {},
   "outputs": [],
   "source": [
    "from pyspark.ml.tuning import ParamGridBuilder, TrainValidationSplit\n",
    "from pyspark.ml.evaluation import MulticlassClassificationEvaluator\n",
    "\n",
    "grid = ParamGridBuilder() \\\n",
    "    .addGrid(classifier.impurity, [\"gini\", \"entropy\"]) \\\n",
    "    .addGrid(classifier.maxDepth, [1, 20]) \\\n",
    "    .addGrid(classifier.maxBins, [40, 300]) \\\n",
    "    .addGrid(classifier.minInfoGain, [0.0, 0.05]) \\\n",
    "    .build()\n",
    "\n",
    "evaluator = MulticlassClassificationEvaluator(labelCol=\"Cover_Type\", predictionCol=\"prediction\", \n",
    "    metricName=\"accuracy\")\n",
    "\n",
    "validator = TrainValidationSplit(estimator=pipeline, evaluator=evaluator, \n",
    "    estimatorParamMaps=grid)\n",
    "validator_model = validator.fit(train_data)"
   ]
  },
  {
   "cell_type": "code",
   "execution_count": 11,
   "metadata": {},
   "outputs": [
    {
     "data": {
      "text/plain": [
       "(0.9119171774464062,\n",
       " {Param(parent='DecisionTreeClassifier_3f718699c342', name='impurity', doc='Criterion used for information gain calculation (case-insensitive). Supported options: entropy, gini'): 'entropy',\n",
       "  Param(parent='DecisionTreeClassifier_3f718699c342', name='maxDepth', doc='Maximum depth of the tree. (>= 0) E.g., depth 0 means 1 leaf node; depth 1 means 1 internal node + 2 leaf nodes. Must be in range [0, 30].'): 20,\n",
       "  Param(parent='DecisionTreeClassifier_3f718699c342', name='maxBins', doc='Max number of bins for discretizing continuous features.  Must be >=2 and >= number of categories for any categorical feature.'): 40,\n",
       "  Param(parent='DecisionTreeClassifier_3f718699c342', name='minInfoGain', doc='Minimum information gain for a split to be considered at a tree node.'): 0.0})"
      ]
     },
     "execution_count": 11,
     "metadata": {},
     "output_type": "execute_result"
    }
   ],
   "source": [
    "params = validator_model.getEstimatorParamMaps() # list of param maps for all models\n",
    "metrics = validator_model.validationMetrics \n",
    "\n",
    "metrics_and_params = list(zip(metrics, params))\n",
    "metrics_and_params.sort(key=lambda x: x[0], reverse=True)\n",
    "metrics_and_params[0]"
   ]
  },
  {
   "cell_type": "code",
   "execution_count": 12,
   "metadata": {},
   "outputs": [
    {
     "name": "stderr",
     "output_type": "stream",
     "text": [
      "24/11/25 14:44:11 WARN DAGScheduler: Broadcasting large task binary with size 4.2 MiB\n"
     ]
    },
    {
     "data": {
      "text/plain": [
       "0.915489800493163"
      ]
     },
     "execution_count": 12,
     "metadata": {},
     "output_type": "execute_result"
    }
   ],
   "source": [
    "evaluator.evaluate(validator_model.bestModel.transform(test_data))"
   ]
  },
  {
   "cell_type": "markdown",
   "metadata": {},
   "source": [
    "The usage for `RandomForestClassifier` is the exact same. Even the hyperparameters are the same."
   ]
  }
 ],
 "metadata": {
  "kernelspec": {
   "display_name": ".venv",
   "language": "python",
   "name": "python3"
  },
  "language_info": {
   "codemirror_mode": {
    "name": "ipython",
    "version": 3
   },
   "file_extension": ".py",
   "mimetype": "text/x-python",
   "name": "python",
   "nbconvert_exporter": "python",
   "pygments_lexer": "ipython3",
   "version": "3.11.9"
  }
 },
 "nbformat": 4,
 "nbformat_minor": 2
}
