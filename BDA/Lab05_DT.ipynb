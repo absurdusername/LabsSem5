{
 "cells": [
  {
   "cell_type": "markdown",
   "metadata": {},
   "source": [
    "[Covertype dataset](https://archive.ics.uci.edu/dataset/31/covertype) on UCI ML Repository"
   ]
  },
  {
   "cell_type": "code",
   "execution_count": 13,
   "metadata": {},
   "outputs": [],
   "source": [
    "from pyspark.sql import SparkSession\n",
    "spark = SparkSession.builder.getOrCreate()"
   ]
  },
  {
   "cell_type": "markdown",
   "metadata": {},
   "source": [
    "### Read the dataset"
   ]
  },
  {
   "cell_type": "code",
   "execution_count": 14,
   "metadata": {},
   "outputs": [],
   "source": [
    "colnames = [\"Elevation\", \"Aspect\", \"Slope\", \\\n",
    "\"Horizontal_Distance_To_Hydrology\", \\\n",
    "\"Vertical_Distance_To_Hydrology\", \"Horizontal_Distance_To_Roadways\",\n",
    "\"Hillshade_9am\", \"Hillshade_Noon\", \"Hillshade_3pm\", \\\n",
    "\"Horizontal_Distance_To_Fire_Points\"] + \\\n",
    "[f\"Wilderness_Area_{i}\" for i in range(4)] + \\\n",
    "[f\"Soil_Type_{i}\" for i in range(40)] + \\\n",
    "[\"Cover_Type\"]\n",
    "\n",
    "# alternatively, colnames = df.schema.names"
   ]
  },
  {
   "cell_type": "code",
   "execution_count": 15,
   "metadata": {},
   "outputs": [
    {
     "name": "stderr",
     "output_type": "stream",
     "text": [
      "24/11/25 18:38:06 WARN DAGScheduler: Broadcasting large task binary with size 3.7 MiB\n",
      "                                                                                \r"
     ]
    }
   ],
   "source": [
    "df = spark.read.csv(\"data/covertype/covtype.data.gz\", header=False, inferSchema=True)\n",
    "df = df.toDF(*colnames)\n",
    "\n",
    "df = df.na.drop() # handle missing values lol"
   ]
  },
  {
   "cell_type": "markdown",
   "metadata": {},
   "source": [
    "### Split into testing and training data"
   ]
  },
  {
   "cell_type": "code",
   "execution_count": 16,
   "metadata": {},
   "outputs": [
    {
     "data": {
      "text/plain": [
       "DataFrame[Elevation: int, Aspect: int, Slope: int, Horizontal_Distance_To_Hydrology: int, Vertical_Distance_To_Hydrology: int, Horizontal_Distance_To_Roadways: int, Hillshade_9am: int, Hillshade_Noon: int, Hillshade_3pm: int, Horizontal_Distance_To_Fire_Points: int, Wilderness_Area_0: int, Wilderness_Area_1: int, Wilderness_Area_2: int, Wilderness_Area_3: int, Soil_Type_0: int, Soil_Type_1: int, Soil_Type_2: int, Soil_Type_3: int, Soil_Type_4: int, Soil_Type_5: int, Soil_Type_6: int, Soil_Type_7: int, Soil_Type_8: int, Soil_Type_9: int, Soil_Type_10: int, Soil_Type_11: int, Soil_Type_12: int, Soil_Type_13: int, Soil_Type_14: int, Soil_Type_15: int, Soil_Type_16: int, Soil_Type_17: int, Soil_Type_18: int, Soil_Type_19: int, Soil_Type_20: int, Soil_Type_21: int, Soil_Type_22: int, Soil_Type_23: int, Soil_Type_24: int, Soil_Type_25: int, Soil_Type_26: int, Soil_Type_27: int, Soil_Type_28: int, Soil_Type_29: int, Soil_Type_30: int, Soil_Type_31: int, Soil_Type_32: int, Soil_Type_33: int, Soil_Type_34: int, Soil_Type_35: int, Soil_Type_36: int, Soil_Type_37: int, Soil_Type_38: int, Soil_Type_39: int, Cover_Type: int]"
      ]
     },
     "execution_count": 16,
     "metadata": {},
     "output_type": "execute_result"
    }
   ],
   "source": [
    "train_data, test_data = df.randomSplit([0.9, 0.1])\n",
    "train_data.cache()\n",
    "test_data.cache()"
   ]
  },
  {
   "cell_type": "markdown",
   "metadata": {},
   "source": [
    "### Collapse all those columns into a \"feature vector\""
   ]
  },
  {
   "cell_type": "code",
   "execution_count": 17,
   "metadata": {},
   "outputs": [
    {
     "name": "stderr",
     "output_type": "stream",
     "text": [
      "24/11/25 18:38:09 WARN DAGScheduler: Broadcasting large task binary with size 4.3 MiB\n",
      "24/11/25 18:38:12 WARN DAGScheduler: Broadcasting large task binary with size 3.0 MiB\n",
      "                                                                                \r"
     ]
    },
    {
     "name": "stdout",
     "output_type": "stream",
     "text": [
      "+---------------------------------------------------------------------------------------------------+\n",
      "|featureVector                                                                                      |\n",
      "+---------------------------------------------------------------------------------------------------+\n",
      "|(54,[0,1,2,3,4,5,6,7,8,9,13,15],[1860.0,18.0,13.0,95.0,15.0,90.0,210.0,213.0,138.0,780.0,1.0,1.0]) |\n",
      "|(54,[0,1,2,3,4,5,6,7,8,9,13,15],[1861.0,35.0,14.0,60.0,11.0,85.0,218.0,209.0,124.0,832.0,1.0,1.0]) |\n",
      "|(54,[0,1,2,3,4,5,6,7,8,9,13,15],[1863.0,37.0,17.0,120.0,18.0,90.0,217.0,202.0,115.0,769.0,1.0,1.0])|\n",
      "+---------------------------------------------------------------------------------------------------+\n",
      "only showing top 3 rows\n",
      "\n"
     ]
    }
   ],
   "source": [
    "from pyspark.ml.feature import VectorAssembler\n",
    "\n",
    "input_cols = colnames[:-1]\n",
    "vector_assembler = VectorAssembler(inputCols=input_cols, outputCol=\"featureVector\")\n",
    "\n",
    "assembled_train_data = vector_assembler.transform(train_data)\n",
    "assembled_test_data = vector_assembler.transform(test_data)\n",
    "\n",
    "assembled_train_data.select(\"featureVector\").show(3, truncate=False)"
   ]
  },
  {
   "cell_type": "markdown",
   "metadata": {},
   "source": [
    "### Train the model"
   ]
  },
  {
   "cell_type": "code",
   "execution_count": 18,
   "metadata": {},
   "outputs": [
    {
     "name": "stderr",
     "output_type": "stream",
     "text": [
      "                                                                                \r"
     ]
    },
    {
     "data": {
      "text/plain": [
       "'DecisionTreeClassificationModel: uid=DecisionTreeClassifier_254a64c663c4, depth=5, numNodes=43, numClasses=8, numFeatures=54\\n  If (feature 0 <= 3047.5)\\n   If (feature 0 <= 2561.5)\\n    If (feature 10 <= 0.5)\\n     If (feature 0 <= 2450.5)\\n      If (feature 3 <= 15.0)\\n       Predict: 4.0\\n      Else (feature 3 > 15.0)\\n       Predict: 3.0\\n     Else (feature 0 > 2450.5)\\n      If (feature 17 <= 0.5)\\n       Predict: 2.0\\n      Else (feature 17 > 0.5)\\n       Predict: 3.0\\n    Else (feature 10 > 0.5)\\n     Predict: 2.0\\n   Else (feature 0 > 2561.5)\\n    If (feature 0 <= 2952.5)\\n     If (feature 15 <= 0.5)\\n      If (feature 17 <= 0.5)\\n       Predict: 2.0\\n      Else (feature 17 > 0.5)\\n       Predict: 3.0\\n     Else (feature 15 > 0.5)\\n      Predict: 3.0\\n    Else (feature 0 > 2952.5)\\n     If (feature 3 <= 214.0)\\n      If (feature 36 <= 0.5)\\n       Predict: 2.0\\n      Else (feature 36 > 0.5)\\n       Predict: 1.0\\n     Else (feature 3 > 214.0)\\n      Predict: 2.0\\n  Else (feature 0 > 3047.5)\\n   If (feature 0 <= 3323.5)\\n    If (feature 7 <= 238.5)\\n     Predict: 1.0\\n    Else (feature 7 > 238.5)\\n     If (feature 3 <= 323.5)\\n      Predict: 1.0\\n     Else (feature 3 > 323.5)\\n      If (feature 0 <= 3215.5)\\n       Predict: 2.0\\n      Else (feature 0 > 3215.5)\\n       Predict: 1.0\\n   Else (feature 0 > 3323.5)\\n    If (feature 12 <= 0.5)\\n     If (feature 4 <= 42.5)\\n      If (feature 1 <= 118.5)\\n       Predict: 7.0\\n      Else (feature 1 > 118.5)\\n       Predict: 1.0\\n     Else (feature 4 > 42.5)\\n      Predict: 1.0\\n    Else (feature 12 > 0.5)\\n     If (feature 45 <= 0.5)\\n      If (feature 7 <= 247.5)\\n       Predict: 7.0\\n      Else (feature 7 > 247.5)\\n       Predict: 1.0\\n     Else (feature 45 > 0.5)\\n      If (feature 5 <= 988.5)\\n       Predict: 7.0\\n      Else (feature 5 > 988.5)\\n       Predict: 1.0\\n'"
      ]
     },
     "execution_count": 18,
     "metadata": {},
     "output_type": "execute_result"
    }
   ],
   "source": [
    "from pyspark.ml.classification import DecisionTreeClassifier\n",
    "\n",
    "classifier = DecisionTreeClassifier(seed=1234, labelCol=colnames[-1], featuresCol=\"featureVector\", \n",
    "    predictionCol=\"prediction\")\n",
    "\n",
    "model = classifier.fit(assembled_train_data)\n",
    "model.toDebugString"
   ]
  },
  {
   "cell_type": "markdown",
   "metadata": {},
   "source": [
    "### Evaluate"
   ]
  },
  {
   "cell_type": "code",
   "execution_count": 19,
   "metadata": {},
   "outputs": [
    {
     "name": "stderr",
     "output_type": "stream",
     "text": [
      "                                                                                \r"
     ]
    },
    {
     "name": "stdout",
     "output_type": "stream",
     "text": [
      "accuracy 0.7017847355439847\n",
      "f1 0.6843051169153829\n"
     ]
    }
   ],
   "source": [
    "from pyspark.ml.evaluation import MulticlassClassificationEvaluator\n",
    "\n",
    "predictions = model.transform(assembled_test_data)\n",
    "\n",
    "evaluator = MulticlassClassificationEvaluator(labelCol=colnames[-1], predictionCol=\"prediction\")\n",
    "accuracy = evaluator.setMetricName(\"accuracy\").evaluate(predictions)\n",
    "f1 = evaluator.setMetricName(\"f1\").evaluate(predictions)\n",
    "\n",
    "print(\"accuracy\", accuracy)\n",
    "print(\"f1\", f1)"
   ]
  },
  {
   "cell_type": "code",
   "execution_count": 20,
   "metadata": {},
   "outputs": [
    {
     "name": "stdout",
     "output_type": "stream",
     "text": [
      "+----------+-----+-----+----+---+---+\n",
      "|Cover_Type|  1.0|  2.0| 3.0|4.0|7.0|\n",
      "+----------+-----+-----+----+---+---+\n",
      "|         1|15269| 5768|  17|  0|383|\n",
      "|         2| 6032|21726| 531| 10| 44|\n",
      "|         3|    0|  630|2940| 76|  0|\n",
      "|         4|    0|    7| 172|122|  0|\n",
      "|         5|    0|  866|  75|  0|  0|\n",
      "|         6|    0|  704| 967| 51|  0|\n",
      "|         7| 1070|    3|   5|  0|916|\n",
      "+----------+-----+-----+----+---+---+\n",
      "\n"
     ]
    }
   ],
   "source": [
    "confusion_matrix = predictions.groupBy(colnames[-1]) \\\n",
    "    .pivot(\"prediction\") \\\n",
    "    .count() \\\n",
    "    .fillna(0) \\\n",
    "    .orderBy(colnames[-1])\n",
    "\n",
    "confusion_matrix.show()"
   ]
  },
  {
   "cell_type": "code",
   "execution_count": 30,
   "metadata": {},
   "outputs": [
    {
     "data": {
      "text/plain": [
       "[('Elevation', np.float64(0.8015630705914127)),\n",
       " ('Horizontal_Distance_To_Hydrology', np.float64(0.03989633749171625)),\n",
       " ('Wilderness_Area_0', np.float64(0.03149059378209944)),\n",
       " ('Soil_Type_3', np.float64(0.0306927181561726)),\n",
       " ('Hillshade_Noon', np.float64(0.02832958558338414))]"
      ]
     },
     "execution_count": 30,
     "metadata": {},
     "output_type": "execute_result"
    }
   ],
   "source": [
    "importances = model.featureImportances.toArray()\n",
    "A = list(zip(input_cols, importances))\n",
    "A.sort(key=lambda x: x[1], reverse=True)\n",
    "A[:5]"
   ]
  },
  {
   "cell_type": "markdown",
   "metadata": {},
   "source": [
    "### Hyperparameter Tuning\n",
    "\n",
    "Not in manual again."
   ]
  },
  {
   "cell_type": "code",
   "execution_count": 22,
   "metadata": {},
   "outputs": [],
   "source": [
    "from pyspark.ml import Pipeline\n",
    "\n",
    "assembler = VectorAssembler(inputCols=colnames[:-1], outputCol=\"featureVector\")\n",
    "classifier = DecisionTreeClassifier(featuresCol=\"featureVector\", labelCol=colnames[-1], predictionCol=\"prediction\")\n",
    "pipeline = Pipeline(stages=[assembler, classifier])"
   ]
  },
  {
   "cell_type": "markdown",
   "metadata": {},
   "source": [
    "`TrainValidationSplit` is like `CrossValidator`, but it performs the split only once. Good for speed."
   ]
  },
  {
   "cell_type": "code",
   "execution_count": 23,
   "metadata": {},
   "outputs": [],
   "source": [
    "# from pyspark.ml.tuning import ParamGridBuilder, TrainValidationSplit\n",
    "# from pyspark.ml.evaluation import MulticlassClassificationEvaluator\n",
    "\n",
    "# grid = ParamGridBuilder() \\\n",
    "#     .addGrid(classifier.impurity, [\"gini\", \"entropy\"]) \\\n",
    "#     .addGrid(classifier.maxDepth, [1, 20]) \\\n",
    "#     .addGrid(classifier.maxBins, [40, 300]) \\\n",
    "#     .addGrid(classifier.minInfoGain, [0.0, 0.05]) \\\n",
    "#     .build()\n",
    "\n",
    "# evaluator = MulticlassClassificationEvaluator(labelCol=\"Cover_Type\", predictionCol=\"prediction\", \n",
    "#     metricName=\"accuracy\")\n",
    "\n",
    "# validator = TrainValidationSplit(estimator=pipeline, evaluator=evaluator, \n",
    "#     estimatorParamMaps=grid)\n",
    "# validator_model = validator.fit(train_data)"
   ]
  },
  {
   "cell_type": "code",
   "execution_count": null,
   "metadata": {},
   "outputs": [
    {
     "ename": "NameError",
     "evalue": "name 'validator_model' is not defined",
     "output_type": "error",
     "traceback": [
      "\u001b[0;31m---------------------------------------------------------------------------\u001b[0m",
      "\u001b[0;31mNameError\u001b[0m                                 Traceback (most recent call last)",
      "Cell \u001b[0;32mIn[24], line 1\u001b[0m\n\u001b[0;32m----> 1\u001b[0m params \u001b[38;5;241m=\u001b[39m \u001b[43mvalidator_model\u001b[49m\u001b[38;5;241m.\u001b[39mgetEstimatorParamMaps() \u001b[38;5;66;03m# list of param maps for all models\u001b[39;00m\n\u001b[1;32m      2\u001b[0m metrics \u001b[38;5;241m=\u001b[39m validator_model\u001b[38;5;241m.\u001b[39mvalidationMetrics \n\u001b[1;32m      4\u001b[0m metrics_and_params \u001b[38;5;241m=\u001b[39m \u001b[38;5;28mlist\u001b[39m(\u001b[38;5;28mzip\u001b[39m(metrics, params))\n",
      "\u001b[0;31mNameError\u001b[0m: name 'validator_model' is not defined"
     ]
    },
    {
     "name": "stderr",
     "output_type": "stream",
     "text": [
      "                                                                                \r"
     ]
    }
   ],
   "source": [
    "params = validator_model.getEstimatorParamMaps() # list of param maps for all models\n",
    "metrics = validator_model.validationMetrics \n",
    "\n",
    "metrics_and_params = list(zip(metrics, params))\n",
    "metrics_and_params.sort(key=lambda x: x[0], reverse=True)\n",
    "metrics_and_params[0]"
   ]
  },
  {
   "cell_type": "code",
   "execution_count": null,
   "metadata": {},
   "outputs": [
    {
     "name": "stderr",
     "output_type": "stream",
     "text": [
      "24/11/25 14:44:11 WARN DAGScheduler: Broadcasting large task binary with size 4.2 MiB\n"
     ]
    },
    {
     "data": {
      "text/plain": [
       "0.915489800493163"
      ]
     },
     "execution_count": 12,
     "metadata": {},
     "output_type": "execute_result"
    }
   ],
   "source": [
    "evaluator.evaluate(validator_model.bestModel.transform(test_data))"
   ]
  },
  {
   "cell_type": "markdown",
   "metadata": {},
   "source": [
    "The usage for `RandomForestClassifier` is the exact same. Even the hyperparameters are the same."
   ]
  }
 ],
 "metadata": {
  "kernelspec": {
   "display_name": ".venv",
   "language": "python",
   "name": "python3"
  },
  "language_info": {
   "codemirror_mode": {
    "name": "ipython",
    "version": 3
   },
   "file_extension": ".py",
   "mimetype": "text/x-python",
   "name": "python",
   "nbconvert_exporter": "python",
   "pygments_lexer": "ipython3",
   "version": "3.11.9"
  }
 },
 "nbformat": 4,
 "nbformat_minor": 2
}
