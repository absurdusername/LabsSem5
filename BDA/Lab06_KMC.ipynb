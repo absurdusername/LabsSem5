{
 "cells": [
  {
   "cell_type": "markdown",
   "metadata": {},
   "source": [
    "[KMeans clustering in PySpark](https://stackoverflow.com/questions/47585723/kmeans-clustering-in-pyspark]) -- StackOverflow"
   ]
  },
  {
   "cell_type": "code",
   "execution_count": 1,
   "metadata": {},
   "outputs": [
    {
     "name": "stderr",
     "output_type": "stream",
     "text": [
      "24/11/09 07:23:20 WARN Utils: Your hostname, Ambujs-MacBook-Air.local resolves to a loopback address: 127.0.0.1; using 10.86.3.215 instead (on interface en0)\n",
      "24/11/09 07:23:20 WARN Utils: Set SPARK_LOCAL_IP if you need to bind to another address\n",
      "Setting default log level to \"WARN\".\n",
      "To adjust logging level use sc.setLogLevel(newLevel). For SparkR, use setLogLevel(newLevel).\n",
      "24/11/09 07:23:20 WARN NativeCodeLoader: Unable to load native-hadoop library for your platform... using builtin-java classes where applicable\n"
     ]
    }
   ],
   "source": [
    "from pyspark.sql import SparkSession\n",
    "spark = SparkSession.builder.getOrCreate()\n",
    "spark.sparkContext.setLogLevel(\"OFF\")"
   ]
  },
  {
   "cell_type": "markdown",
   "metadata": {},
   "source": [
    "Create the DataFrame"
   ]
  },
  {
   "cell_type": "code",
   "execution_count": 2,
   "metadata": {},
   "outputs": [
    {
     "name": "stdout",
     "output_type": "stream",
     "text": [
      "+---------+--------+---------+\n",
      "|     city|latitude|longitude|\n",
      "+---------+--------+---------+\n",
      "|    Delhi|    28.7|     77.1|\n",
      "|  Gurgaon|    28.5|     77.0|\n",
      "|Faridabad|    28.4|     77.3|\n",
      "|    Noida|    28.5|     77.4|\n",
      "|  Manipal|    13.4|     74.8|\n",
      "|    Udupi|    13.3|     74.7|\n",
      "+---------+--------+---------+\n",
      "\n"
     ]
    }
   ],
   "source": [
    "df = spark.createDataFrame([\n",
    "    (\"Delhi\", 28.7, 77.1),   \n",
    "    (\"Gurgaon\", 28.5, 77.0),\n",
    "    (\"Faridabad\", 28.4, 77.3),\n",
    "    (\"Noida\", 28.5, 77.4),\n",
    "\n",
    "    (\"Manipal\", 13.4, 74.8),\n",
    "    (\"Udupi\", 13.3, 74.7)\n",
    "], schema=\"city string, latitude double, longitude double\")\n",
    "\n",
    "df.show()"
   ]
  },
  {
   "cell_type": "markdown",
   "metadata": {},
   "source": [
    "Create and fit the pipeline"
   ]
  },
  {
   "cell_type": "code",
   "execution_count": 3,
   "metadata": {},
   "outputs": [],
   "source": [
    "from pyspark.ml.feature import VectorAssembler, StandardScaler\n",
    "from pyspark.ml.clustering import KMeans\n",
    "from pyspark.ml import Pipeline\n",
    "\n",
    "assembler = VectorAssembler(inputCols=[\"latitude\", \"longitude\"], outputCol=\"featureVector\")\n",
    "scaler = StandardScaler(inputCol=\"featureVector\", outputCol=\"scaledFeatureVector\")\n",
    "classifier = KMeans(featuresCol=\"scaledFeatureVector\", predictionCol=\"cluster\", k=2)\n",
    "\n",
    "pipeline = Pipeline(stages=[assembler, scaler, classifier])\n",
    "pipeline_model = pipeline.fit(df)"
   ]
  },
  {
   "cell_type": "code",
   "execution_count": 4,
   "metadata": {},
   "outputs": [
    {
     "data": {
      "text/plain": [
       "0.0656029904280815"
      ]
     },
     "execution_count": 4,
     "metadata": {},
     "output_type": "execute_result"
    }
   ],
   "source": [
    "kmeans_model = pipeline_model.stages[-1]\n",
    "kmeans_model.summary.trainingCost"
   ]
  },
  {
   "cell_type": "markdown",
   "metadata": {},
   "source": [
    "Set threshold for anomalies"
   ]
  },
  {
   "cell_type": "code",
   "execution_count": 40,
   "metadata": {},
   "outputs": [
    {
     "name": "stdout",
     "output_type": "stream",
     "text": [
      "+-------+--------------------+\n",
      "|cluster| scaledFeatureVector|\n",
      "+-------+--------------------+\n",
      "|      0|[3.63659274466529...|\n",
      "|      0|[3.63659274466529...|\n",
      "|      0|[3.66211269375066...|\n",
      "|      0|[3.62383277012261...|\n",
      "|      1|[1.70983658871982...|\n",
      "+-------+--------------------+\n",
      "only showing top 5 rows\n",
      "\n"
     ]
    }
   ],
   "source": [
    "import numpy as np\n",
    "from pyspark.sql.functions import udf, col\n",
    "\n",
    "centroids = kmeans_model.clusterCenters()\n",
    "clustered = pipeline_model.transform(df)\n",
    "\n",
    "@udf\n",
    "def dist(cluster, vector):\n",
    "    return float(vector.squared_distance(centroids[cluster]))\n",
    "\n",
    "clustered \\\n",
    "    .withColumn(\"distance\", dist(\"cluster\", \"scaledFeatureVector\")) \\\n",
    "    .select(\"cluster\", \"scaledFeatureVector\") \\\n",
    "    .orderBy(col(\"distance\").desc()) \\\n",
    "    .show(5)"
   ]
  }
 ],
 "metadata": {
  "kernelspec": {
   "display_name": ".venv",
   "language": "python",
   "name": "python3"
  },
  "language_info": {
   "codemirror_mode": {
    "name": "ipython",
    "version": 3
   },
   "file_extension": ".py",
   "mimetype": "text/x-python",
   "name": "python",
   "nbconvert_exporter": "python",
   "pygments_lexer": "ipython3",
   "version": "3.11.9"
  }
 },
 "nbformat": 4,
 "nbformat_minor": 2
}
