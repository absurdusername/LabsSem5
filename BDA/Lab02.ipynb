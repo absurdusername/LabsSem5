{
 "cells": [
  {
   "cell_type": "code",
   "id": "d19b0e82",
   "metadata": {
    "ExecuteTime": {
     "end_time": "2024-08-18T22:10:11.592767Z",
     "start_time": "2024-08-18T22:10:11.564374Z"
    }
   },
   "source": [
    "from pyspark.sql import SparkSession\n",
    "spark = SparkSession.builder.getOrCreate()"
   ],
   "outputs": [],
   "execution_count": 2
  },
  {
   "cell_type": "markdown",
   "id": "3e1295d3",
   "metadata": {},
   "source": [
    "Question 5\n",
    "\n",
    "[Relevant StackOverflow post](https://stackoverflow.com/questions/48927271/count-number-of-words-in-a-spark-dataframe)\n",
    "\n",
    "`read.text()` will read the text file into a DataFrame. Each line will be stored in a separate row (as a string).\n",
    "\n",
    "[`functions.split()`](https://spark.apache.org/docs/2.1.0/api/python/pyspark.sql.html#pyspark.sql.functions.split) will split each line into an array (`Row`) of words.\n",
    "[`functions.size()`](https://spark.apache.org/docs/2.1.0/api/python/pyspark.sql.html#pyspark.sql.functions.size) will measure the size of this `Row` instance for each line. \n",
    "\n",
    "Finally sum the word-counts for all individual lines using [`functions.sum()`](https://spark.apache.org/docs/2.1.0/api/python/pyspark.sql.html#pyspark.sql.functions.size). "
   ]
  },
  {
   "cell_type": "code",
   "execution_count": null,
   "id": "initial_id",
   "metadata": {
    "collapsed": true
   },
   "outputs": [],
   "source": [
    "from pyspark.sql.functions import size, split, sum\n",
    "\n",
    "file_path = 'data/shakespeare.txt'\n",
    "\n",
    "df = spark.read.text(file_path) \n",
    "\n",
    "df = df.withColumn('words', size(split(df.value, ' '))) # append a column for words\n",
    "df.select(sum(df.words)).show()"
   ]
  }
 ],
 "metadata": {
  "kernelspec": {
   "display_name": "Python 3",
   "language": "python",
   "name": "python3"
  },
  "language_info": {
   "codemirror_mode": {
    "name": "ipython",
    "version": 3
   },
   "file_extension": ".py",
   "mimetype": "text/x-python",
   "name": "python",
   "nbconvert_exporter": "python",
   "pygments_lexer": "ipython3",
   "version": "3.11.9"
  }
 },
 "nbformat": 4,
 "nbformat_minor": 5
}
