{
 "cells": [
  {
   "cell_type": "code",
   "execution_count": null,
   "metadata": {},
   "outputs": [],
   "source": [
    "from pyspark.sql import SparkSession\n",
    "\n",
    "spark = SparkSession.builder.getOrCreate()"
   ]
  },
  {
   "cell_type": "markdown",
   "metadata": {},
   "source": [
    "### Reading user-artist interaction data"
   ]
  },
  {
   "cell_type": "code",
   "execution_count": 2,
   "metadata": {},
   "outputs": [],
   "source": [
    "user_artist_data_path = \"data/audioscrobbler/user_artist_data.txt\"\n",
    "raw_user_artist_data = spark.read.text(user_artist_data_path)"
   ]
  },
  {
   "cell_type": "code",
   "execution_count": null,
   "metadata": {},
   "outputs": [],
   "source": [
    "raw_user_artist_data.show(3) # user ID, artist ID, and play count"
   ]
  },
  {
   "cell_type": "markdown",
   "metadata": {},
   "source": [
    "`raw_user_artist_data` is like a list of strings. Not very useful. We parse it into a DataFrame with 3 integer-type columns."
   ]
  },
  {
   "cell_type": "code",
   "execution_count": 4,
   "metadata": {},
   "outputs": [],
   "source": [
    "raw_user_artist_data.createOrReplaceTempView(\"raw_user_artist_data\")\n",
    "\n",
    "query = \"\"\"\n",
    "    select \n",
    "        cast(split(value, ' ')[0] as int) as user,\n",
    "        cast(split(value, ' ')[1] as int) as artist,\n",
    "        cast(split(value, ' ')[2] as int) as count\n",
    "    from raw_user_artist_data\n",
    "\"\"\"\n",
    "user_artist_data = spark.sql(query)"
   ]
  },
  {
   "cell_type": "code",
   "execution_count": null,
   "metadata": {},
   "outputs": [],
   "source": [
    "user_artist_data.show(3)"
   ]
  },
  {
   "cell_type": "markdown",
   "metadata": {},
   "source": [
    "### Reading artist aliases"
   ]
  },
  {
   "cell_type": "code",
   "execution_count": 8,
   "metadata": {},
   "outputs": [],
   "source": [
    "artist_alias_path = \"data/audioscrobbler/artist_alias.txt\"\n",
    "raw_artist_alias = spark.read.text(artist_alias_path)\n",
    "\n",
    "raw_artist_alias.createOrReplaceTempView(\"raw_artist_alias\")\n",
    "\n",
    "query = \"\"\"\n",
    "    select \n",
    "        cast(split(value, '\\t')[0] as int) as artist,\n",
    "        cast(split(value, '\\t')[1] as int) as alias\n",
    "    from raw_artist_alias\n",
    "\"\"\"\n",
    "artist_alias = spark.sql(query)"
   ]
  },
  {
   "cell_type": "code",
   "execution_count": null,
   "metadata": {},
   "outputs": [],
   "source": [
    "artist_alias.show(3)"
   ]
  },
  {
   "cell_type": "markdown",
   "metadata": {},
   "source": [
    "### Prepare the training and testing data"
   ]
  },
  {
   "cell_type": "markdown",
   "metadata": {},
   "source": [
    "Using `artist_alias` to replace artist IDs by their appropriate alias."
   ]
  },
  {
   "cell_type": "code",
   "execution_count": 40,
   "metadata": {},
   "outputs": [],
   "source": [
    "from pyspark.sql.functions import when, col\n",
    "\n",
    "user_artist_data.createOrReplaceTempView(\"user_artist_data\")\n",
    "artist_alias.createOrReplaceTempView(\"artist_alias\")\n",
    "\n",
    "df = spark.sql(\"\"\"\n",
    "    select * \n",
    "    from user_artist_data \n",
    "        natural left join artist_alias;\n",
    "\"\"\") \n",
    "\n",
    "df = df.withColumn(\n",
    "    \"artist\", # column name\n",
    "    when(col(\"alias\").isNull(), col(\"artist\")).otherwise(col(\"alias\")) # when(condition, value).otherwise(value)\n",
    ").drop(\"alias\")"
   ]
  },
  {
   "cell_type": "code",
   "execution_count": 61,
   "metadata": {},
   "outputs": [],
   "source": [
    "df = df.sample(0.02) # only taking 2% of the data because I'm poor\n",
    "train, test = df.randomSplit([8.0, 2.0])"
   ]
  },
  {
   "cell_type": "markdown",
   "metadata": {},
   "source": [
    "### Training the model"
   ]
  },
  {
   "cell_type": "code",
   "execution_count": null,
   "metadata": {},
   "outputs": [],
   "source": [
    "train.cache()"
   ]
  },
  {
   "cell_type": "code",
   "execution_count": null,
   "metadata": {},
   "outputs": [],
   "source": [
    "from pyspark.ml.recommendation import ALS\n",
    "\n",
    "als = ALS(userCol='user', itemCol='artist', ratingCol='count')\n",
    "model = als.fit(train)"
   ]
  },
  {
   "cell_type": "code",
   "execution_count": null,
   "metadata": {},
   "outputs": [],
   "source": [
    "predictions = model.transform(test)\n",
    "predictions.na.drop().show(5)"
   ]
  },
  {
   "cell_type": "code",
   "execution_count": null,
   "metadata": {},
   "outputs": [],
   "source": [
    "from pyspark.ml.evaluation import RegressionEvaluator\n",
    "\n",
    "evaluator = RegressionEvaluator(labelCol=\"count\")\n",
    "evaluator.evaluate(predictions.na.drop())"
   ]
  },
  {
   "cell_type": "markdown",
   "metadata": {},
   "source": [
    "### Hyperparameter tuning"
   ]
  },
  {
   "cell_type": "code",
   "execution_count": null,
   "metadata": {},
   "outputs": [],
   "source": [
    "from pyspark.ml.tuning import CrossValidator, ParamGridBuilder\n",
    "\n",
    "param_grid = ParamGridBuilder() \\\n",
    "    .addGrid(als.rank, [1, 5, 10]) \\\n",
    "    .addGrid(als.maxIter, [5, 10]) \\\n",
    "    .addGrid(als.regParam, [0.05, 0.1]) \\\n",
    "    .build()\n",
    "\n",
    "cv = CrossValidator(estimator=als, estimatorParamMaps=param_grid, evaluator=evaluator)\n",
    "\n",
    "cv_model = cv.fit(train)\n",
    "predictions = cv_model.transform(test)\n",
    "evaluator.evaluate(predictions.na.drop())"
   ]
  }
 ],
 "metadata": {
  "kernelspec": {
   "display_name": ".venv",
   "language": "python",
   "name": "python3"
  },
  "language_info": {
   "codemirror_mode": {
    "name": "ipython",
    "version": 3
   },
   "file_extension": ".py",
   "mimetype": "text/x-python",
   "name": "python",
   "nbconvert_exporter": "python",
   "pygments_lexer": "ipython3",
   "version": "3.11.9"
  }
 },
 "nbformat": 4,
 "nbformat_minor": 2
}
