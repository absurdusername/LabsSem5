{
 "cells": [
  {
   "metadata": {},
   "cell_type": "markdown",
   "source": [
    "- [\"Quickstart: DataFrame\"](https://spark.apache.org/docs/latest/api/python/getting_started/quickstart_df.html) -- one page guide by the official docs\n",
    "\n",
    "- [`pyspark.sql.functions`](https://spark.apache.org/docs/latest/api/python/reference/pyspark.sql/functions.html) -- discover useful column-wise functions here"
   ],
   "id": "23f48f8f3ad201eb"
  },
  {
   "cell_type": "code",
   "id": "initial_id",
   "metadata": {
    "collapsed": true
   },
   "source": [
    "from pyspark.sql import SparkSession\n",
    "spark = SparkSession.builder.getOrCreate()"
   ],
   "outputs": [],
   "execution_count": null
  },
  {
   "metadata": {},
   "cell_type": "markdown",
   "source": "Question 1",
   "id": "3724ae97e2646c29"
  },
  {
   "cell_type": "code",
   "id": "86c06762",
   "metadata": {
    "ExecuteTime": {
     "end_time": "2024-08-18T14:29:19.151434Z",
     "start_time": "2024-08-18T14:29:18.051524Z"
    }
   },
   "source": [
    "df = spark.createDataFrame([\n",
    "    (x,) for x in range(1, 5)\n",
    "], schema='x int')"
   ],
   "outputs": [],
   "execution_count": 2
  },
  {
   "cell_type": "code",
   "id": "6a817da6",
   "metadata": {
    "ExecuteTime": {
     "end_time": "2024-08-18T14:30:47.996653Z",
     "start_time": "2024-08-18T14:30:47.678803Z"
    }
   },
   "source": [
    "from pyspark.sql.functions import pow\n",
    "\n",
    "df.withColumn(\"x squared\", pow(df.x, 2)).show()"
   ],
   "outputs": [
    {
     "name": "stdout",
     "output_type": "stream",
     "text": [
      "+---+---------+\n",
      "|  x|x squared|\n",
      "+---+---------+\n",
      "|  1|      1.0|\n",
      "|  2|      4.0|\n",
      "|  3|      9.0|\n",
      "|  4|     16.0|\n",
      "+---+---------+\n",
      "\n"
     ]
    }
   ],
   "execution_count": 11
  },
  {
   "metadata": {},
   "cell_type": "markdown",
   "source": "Question 2",
   "id": "b99df0bb4a0155d7"
  },
  {
   "metadata": {
    "ExecuteTime": {
     "end_time": "2024-08-18T14:30:50.741152Z",
     "start_time": "2024-08-18T14:30:50.528697Z"
    }
   },
   "cell_type": "code",
   "source": [
    "from pyspark.sql.functions import max\n",
    "\n",
    "df.select(max(df.x)).show()"
   ],
   "id": "8e75ef3b79b0a534",
   "outputs": [
    {
     "name": "stdout",
     "output_type": "stream",
     "text": [
      "+------+\n",
      "|max(x)|\n",
      "+------+\n",
      "|     4|\n",
      "+------+\n",
      "\n"
     ]
    }
   ],
   "execution_count": 12
  },
  {
   "metadata": {},
   "cell_type": "markdown",
   "source": "Question 3",
   "id": "8c7324b15d1bb707"
  },
  {
   "metadata": {
    "ExecuteTime": {
     "end_time": "2024-08-18T14:30:56.784436Z",
     "start_time": "2024-08-18T14:30:56.609399Z"
    }
   },
   "cell_type": "code",
   "source": [
    "from pyspark.sql.functions import avg\n",
    "\n",
    "df.select(avg(df.x)).show()"
   ],
   "id": "f280f66290d9039b",
   "outputs": [
    {
     "name": "stdout",
     "output_type": "stream",
     "text": [
      "+------+\n",
      "|avg(x)|\n",
      "+------+\n",
      "|   2.5|\n",
      "+------+\n",
      "\n"
     ]
    }
   ],
   "execution_count": 14
  },
  {
   "metadata": {},
   "cell_type": "markdown",
   "source": "Question 4",
   "id": "15e9ab5fabbb20c6"
  },
  {
   "metadata": {
    "ExecuteTime": {
     "end_time": "2024-08-18T20:41:15.368992Z",
     "start_time": "2024-08-18T20:41:14.861755Z"
    }
   },
   "cell_type": "code",
   "source": [
    "file_path = 'data/foo.csv'\n",
    "\n",
    "df.write.csv(file_path, header=True, mode='overwrite') # 'overwrite' if the file alr exists\n",
    "\n",
    "spark.read.csv(file_path, header=True).show()"
   ],
   "id": "19e9fd92489f62ba",
   "outputs": [
    {
     "name": "stdout",
     "output_type": "stream",
     "text": [
      "+---+\n",
      "|  x|\n",
      "+---+\n",
      "|  1|\n",
      "|  2|\n",
      "|  3|\n",
      "|  4|\n",
      "+---+\n",
      "\n"
     ]
    }
   ],
   "execution_count": 23
  },
  {
   "metadata": {},
   "cell_type": "markdown",
   "source": [
    "Question 5\n",
    "\n",
    "[Relevant StackOverflow post](https://stackoverflow.com/questions/48927271/count-number-of-words-in-a-spark-dataframe)\n",
    "\n",
    "`read.text()` will read the text file into a DataFrame. Each line will be stored in a separate row (as a string).\n",
    "\n",
    "[`functions.split()`](https://spark.apache.org/docs/2.1.0/api/python/pyspark.sql.html#pyspark.sql.functions.split) will split each line into an array (`Row`) of words.\n",
    "[`functions.size()`](https://spark.apache.org/docs/2.1.0/api/python/pyspark.sql.html#pyspark.sql.functions.size) will measure the size of this `Row` instance for each line. \n",
    "\n",
    "Finally sum the word-counts for all individual lines using [`functions.sum()`](https://spark.apache.org/docs/2.1.0/api/python/pyspark.sql.html#pyspark.sql.functions.size). "
   ],
   "id": "64ee306fdda2a93b"
  },
  {
   "metadata": {
    "ExecuteTime": {
     "end_time": "2024-08-18T21:08:16.944108Z",
     "start_time": "2024-08-18T21:08:16.842893Z"
    }
   },
   "cell_type": "code",
   "source": [
    "from pyspark.sql.functions import size, split, sum\n",
    "\n",
    "file_path = 'data/shakespeare.txt'\n",
    "\n",
    "df = spark.read.text(file_path) \n",
    "\n",
    "df = df.withColumn('words', size(split(df.value, ' '))) # append a column for words\n",
    "df.select(sum(df.words)).show()"
   ],
   "id": "24e9c269b1ae54ba",
   "outputs": [
    {
     "name": "stdout",
     "output_type": "stream",
     "text": [
      "+----------+\n",
      "|sum(words)|\n",
      "+----------+\n",
      "|       256|\n",
      "+----------+\n",
      "\n"
     ]
    }
   ],
   "execution_count": 47
  }
 ],
 "metadata": {
  "kernelspec": {
   "display_name": "Python 3",
   "language": "python",
   "name": "python3"
  },
  "language_info": {
   "codemirror_mode": {
    "name": "ipython",
    "version": 3
   },
   "file_extension": ".py",
   "mimetype": "text/x-python",
   "name": "python",
   "nbconvert_exporter": "python",
   "pygments_lexer": "ipython3",
   "version": "3.11.9"
  }
 },
 "nbformat": 4,
 "nbformat_minor": 5
}
