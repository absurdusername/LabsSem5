{
 "cells": [
  {
   "cell_type": "markdown",
   "id": "23f48f8f3ad201eb",
   "metadata": {},
   "source": [
    "- [\"Quickstart: DataFrame\"](https://spark.apache.org/docs/latest/api/python/getting_started/quickstart_df.html) -- one page guide by the official docs\n",
    "\n",
    "- [`pyspark.sql.functions`](https://spark.apache.org/docs/latest/api/python/reference/pyspark.sql/functions.html) -- discover useful column-wise functions here"
   ]
  },
  {
   "cell_type": "code",
   "execution_count": 14,
   "id": "initial_id",
   "metadata": {
    "collapsed": true
   },
   "outputs": [],
   "source": [
    "from pyspark.sql import SparkSession\n",
    "spark = SparkSession.builder.getOrCreate()"
   ]
  },
  {
   "cell_type": "markdown",
   "id": "3724ae97e2646c29",
   "metadata": {},
   "source": [
    "Question 1"
   ]
  },
  {
   "cell_type": "code",
   "execution_count": 15,
   "id": "86c06762",
   "metadata": {
    "ExecuteTime": {
     "end_time": "2024-08-18T14:29:19.151434Z",
     "start_time": "2024-08-18T14:29:18.051524Z"
    }
   },
   "outputs": [],
   "source": [
    "df = spark.createDataFrame([\n",
    "    (x,) for x in range(1, 5)\n",
    "], schema='x int')"
   ]
  },
  {
   "cell_type": "code",
   "execution_count": 16,
   "id": "6a817da6",
   "metadata": {
    "ExecuteTime": {
     "end_time": "2024-08-18T14:30:47.996653Z",
     "start_time": "2024-08-18T14:30:47.678803Z"
    }
   },
   "outputs": [
    {
     "name": "stdout",
     "output_type": "stream",
     "text": [
      "+---+---------+\n",
      "|  x|x squared|\n",
      "+---+---------+\n",
      "|  1|      1.0|\n",
      "|  2|      4.0|\n",
      "|  3|      9.0|\n",
      "|  4|     16.0|\n",
      "+---+---------+\n",
      "\n"
     ]
    }
   ],
   "source": [
    "from pyspark.sql.functions import pow\n",
    "\n",
    "df.withColumn(\"x squared\", pow(df.x, 2)).show()"
   ]
  },
  {
   "cell_type": "markdown",
   "id": "b99df0bb4a0155d7",
   "metadata": {},
   "source": [
    "Question 2"
   ]
  },
  {
   "cell_type": "code",
   "execution_count": 17,
   "id": "8e75ef3b79b0a534",
   "metadata": {
    "ExecuteTime": {
     "end_time": "2024-08-18T14:30:50.741152Z",
     "start_time": "2024-08-18T14:30:50.528697Z"
    }
   },
   "outputs": [
    {
     "name": "stdout",
     "output_type": "stream",
     "text": [
      "+------+\n",
      "|max(x)|\n",
      "+------+\n",
      "|     4|\n",
      "+------+\n",
      "\n"
     ]
    }
   ],
   "source": [
    "from pyspark.sql.functions import max\n",
    "\n",
    "df.select(max(df.x)).show()"
   ]
  },
  {
   "cell_type": "markdown",
   "id": "8c7324b15d1bb707",
   "metadata": {},
   "source": [
    "Question 3"
   ]
  },
  {
   "cell_type": "code",
   "execution_count": 18,
   "id": "f280f66290d9039b",
   "metadata": {
    "ExecuteTime": {
     "end_time": "2024-08-18T14:30:56.784436Z",
     "start_time": "2024-08-18T14:30:56.609399Z"
    }
   },
   "outputs": [
    {
     "name": "stdout",
     "output_type": "stream",
     "text": [
      "+------+\n",
      "|avg(x)|\n",
      "+------+\n",
      "|   2.5|\n",
      "+------+\n",
      "\n"
     ]
    }
   ],
   "source": [
    "from pyspark.sql.functions import avg\n",
    "\n",
    "df.select(avg(df.x)).show()"
   ]
  },
  {
   "cell_type": "markdown",
   "id": "15e9ab5fabbb20c6",
   "metadata": {},
   "source": [
    "Question 4"
   ]
  },
  {
   "cell_type": "code",
   "execution_count": 19,
   "id": "19e9fd92489f62ba",
   "metadata": {
    "ExecuteTime": {
     "end_time": "2024-08-18T20:41:15.368992Z",
     "start_time": "2024-08-18T20:41:14.861755Z"
    }
   },
   "outputs": [
    {
     "name": "stdout",
     "output_type": "stream",
     "text": [
      "+---+\n",
      "|  x|\n",
      "+---+\n",
      "|  1|\n",
      "|  2|\n",
      "|  3|\n",
      "|  4|\n",
      "+---+\n",
      "\n"
     ]
    }
   ],
   "source": [
    "file_path = 'data/foo.csv'\n",
    "\n",
    "df.write.csv(file_path, header=True, mode='overwrite') # 'overwrite' if the file alr exists\n",
    "\n",
    "spark.read.csv(file_path, header=True).show()"
   ]
  },
  {
   "cell_type": "markdown",
   "id": "7b649da4",
   "metadata": {},
   "source": [
    "Question 5"
   ]
  },
  {
   "cell_type": "code",
   "execution_count": 20,
   "id": "ec493ee4",
   "metadata": {},
   "outputs": [
    {
     "name": "stdout",
     "output_type": "stream",
     "text": [
      "+---+\n",
      "|  x|\n",
      "+---+\n",
      "|  1|\n",
      "|  2|\n",
      "|  3|\n",
      "+---+\n",
      "only showing top 3 rows\n",
      "\n",
      "root\n",
      " |-- x: integer (nullable = true)\n",
      "\n"
     ]
    }
   ],
   "source": [
    "df.show(3) # display the first 3 rows, defaults to 20\n",
    "\n",
    "df.printSchema()"
   ]
  },
  {
   "cell_type": "markdown",
   "id": "cc47dc42",
   "metadata": {},
   "source": [
    "Question 6"
   ]
  },
  {
   "cell_type": "code",
   "execution_count": 21,
   "id": "3b4ff3d9",
   "metadata": {},
   "outputs": [
    {
     "name": "stdout",
     "output_type": "stream",
     "text": [
      "+-------+------------------+\n",
      "|summary|                 x|\n",
      "+-------+------------------+\n",
      "|  count|                 4|\n",
      "|   mean|               2.5|\n",
      "| stddev|1.2909944487358056|\n",
      "|    min|                 1|\n",
      "|    max|                 4|\n",
      "+-------+------------------+\n",
      "\n"
     ]
    }
   ],
   "source": [
    "df.describe('x').show()\n",
    "\n",
    "# another alternative is\n",
    "# df.select(df.x).describe().show()"
   ]
  }
 ],
 "metadata": {
  "kernelspec": {
   "display_name": "Python 3",
   "language": "python",
   "name": "python3"
  },
  "language_info": {
   "codemirror_mode": {
    "name": "ipython",
    "version": 3
   },
   "file_extension": ".py",
   "mimetype": "text/x-python",
   "name": "python",
   "nbconvert_exporter": "python",
   "pygments_lexer": "ipython3",
   "version": "3.11.9"
  }
 },
 "nbformat": 4,
 "nbformat_minor": 5
}
