{
 "cells": [
  {
   "cell_type": "code",
   "execution_count": 372,
   "metadata": {},
   "outputs": [],
   "source": [
    "import pandas as pd\n",
    "import numpy as np\n",
    "import matplotlib.pyplot as plt\n",
    "import seaborn as sns"
   ]
  },
  {
   "cell_type": "code",
   "execution_count": 373,
   "metadata": {},
   "outputs": [],
   "source": [
    "def euclidean(a, b):\n",
    "    return minkowski(a, b, p=2)\n",
    "\n",
    "def manhattan(a, b):\n",
    "    return np.sum(np.abs(a - b), axis=-1)\n",
    "\n",
    "def minkowski(a, b, p=3):\n",
    "    return np.sum(np.abs(a - b) ** p, axis=-1) ** (1 / p)"
   ]
  },
  {
   "cell_type": "code",
   "execution_count": 374,
   "metadata": {},
   "outputs": [],
   "source": [
    "def KMC(df, k=3, f=euclidean):\n",
    "    centroids = df.sample(k).to_numpy()\n",
    "    clusters = np.zeros(df.shape[0], dtype=np.uint8) # clusters[i] := clusters index for df.iloc[i]\n",
    "\n",
    "    for _ in range(100):\n",
    "        for i, row in enumerate(df.values):\n",
    "            distances = f(centroids, row)\n",
    "            clusters[i] = np.argmin(distances)\n",
    "\n",
    "        for i in range(k):\n",
    "            centroids[i] = df[clusters == i].mean().to_numpy()\n",
    "\n",
    "    SSE = sum(f(point, clusters[i]) for i, point in enumerate(df.values))\n",
    "    return clusters, centroids, SSE"
   ]
  },
  {
   "cell_type": "code",
   "execution_count": 375,
   "metadata": {},
   "outputs": [],
   "source": [
    "path = \"data/data10.csv\"\n",
    "df = pd.read_csv(path)"
   ]
  },
  {
   "cell_type": "code",
   "execution_count": 376,
   "metadata": {},
   "outputs": [
    {
     "data": {
      "text/plain": [
       "(array([1, 1, 1, 1, 1, 1, 2, 2, 0, 0, 0, 2, 2, 2, 0, 0, 2, 2], dtype=uint8),\n",
       " array([[31.6       , 10.2       ,  8.        ],\n",
       "        [16.        ,  5.16666667, 12.33333333],\n",
       "        [25.28571429,  7.85714286,  5.85714286]]),\n",
       " np.float64(462.7782236262017))"
      ]
     },
     "execution_count": 376,
     "metadata": {},
     "output_type": "execute_result"
    }
   ],
   "source": [
    "KMC(df)"
   ]
  }
 ],
 "metadata": {
  "kernelspec": {
   "display_name": ".venv",
   "language": "python",
   "name": "python3"
  },
  "language_info": {
   "codemirror_mode": {
    "name": "ipython",
    "version": 3
   },
   "file_extension": ".py",
   "mimetype": "text/x-python",
   "name": "python",
   "nbconvert_exporter": "python",
   "pygments_lexer": "ipython3",
   "version": "3.11.9"
  }
 },
 "nbformat": 4,
 "nbformat_minor": 2
}
