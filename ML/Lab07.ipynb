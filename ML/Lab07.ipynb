{
 "cells": [
  {
   "cell_type": "code",
   "execution_count": 1,
   "metadata": {},
   "outputs": [],
   "source": [
    "import pandas as pd\n",
    "from collections import defaultdict"
   ]
  },
  {
   "cell_type": "markdown",
   "metadata": {},
   "source": [
    "### Question 1"
   ]
  },
  {
   "cell_type": "code",
   "execution_count": 2,
   "metadata": {},
   "outputs": [
    {
     "data": {
      "text/plain": [
       "0.6923076923076923"
      ]
     },
     "execution_count": 2,
     "metadata": {},
     "output_type": "execute_result"
    }
   ],
   "source": [
    "hostel = 0.6\n",
    "day = 1 - hostel\n",
    "\n",
    "hostel_A = 0.3\n",
    "day_A = 0.2\n",
    "\n",
    "(hostel * hostel_A) / (hostel * hostel_A + day * day_A)"
   ]
  },
  {
   "cell_type": "code",
   "execution_count": 3,
   "metadata": {},
   "outputs": [
    {
     "data": {
      "text/plain": [
       "0.3333333333333333"
      ]
     },
     "execution_count": 3,
     "metadata": {},
     "output_type": "execute_result"
    }
   ],
   "source": [
    "a = 0.01\n",
    "b = 0.99\n",
    "c = 0.02\n",
    "\n",
    "(a * b) / (a * b + c * (1 - a))"
   ]
  },
  {
   "cell_type": "markdown",
   "metadata": {},
   "source": [
    "### Question 2"
   ]
  },
  {
   "cell_type": "code",
   "execution_count": 4,
   "metadata": {},
   "outputs": [],
   "source": [
    "path = \"data/data07_2.csv\"\n",
    "M = pd.read_csv(path).to_numpy() # assuming last column is the target variable\n",
    "n = len(M)"
   ]
  },
  {
   "cell_type": "markdown",
   "metadata": {},
   "source": [
    "`F[(i, x, y)]` := number of times feature column `i` was `x` when the target variable was `y`. Default value is 0.001.\n",
    "\n",
    "`F[(i, x)]` := number of times feature column `i` was `x`.\n",
    "\n",
    "`F[y]` := number of times target column was `y`.\n",
    "\n",
    "`S[i]` := set of unique values in feature column i."
   ]
  },
  {
   "cell_type": "code",
   "execution_count": 36,
   "metadata": {},
   "outputs": [],
   "source": [
    "F = defaultdict(lambda: 0.001) # default value 0.001\n",
    "S = defaultdict(set)\n",
    "\n",
    "for row in M:\n",
    "    y = row[-1]\n",
    "    F[y] += 1\n",
    "    \n",
    "    for i in range(len(row) - 1):\n",
    "        x = row[i]\n",
    "        F[(i, x, y)] += 1\n",
    "        S[i].add(x)"
   ]
  },
  {
   "cell_type": "code",
   "execution_count": 24,
   "metadata": {},
   "outputs": [],
   "source": [
    "def predict(X):\n",
    "    result = None\n",
    "    best_odds = 0\n",
    "\n",
    "    for y in (\"yes\", \"no\"):\n",
    "        odds = F[y]\n",
    "\n",
    "        for i, x in enumerate(X):\n",
    "            odds *= F[(i, x, y)] / (F[y])\n",
    "\n",
    "        if odds > best_odds:\n",
    "            print(odds)\n",
    "            best_odds = odds\n",
    "            result = y\n",
    "    \n",
    "    return result, best_odds"
   ]
  },
  {
   "cell_type": "code",
   "execution_count": 25,
   "metadata": {},
   "outputs": [
    {
     "name": "stdout",
     "output_type": "stream",
     "text": [
      "0.1482963360770712\n",
      "0.3843776793520003\n"
     ]
    },
    {
     "data": {
      "text/plain": [
       "('no', 0.3843776793520003)"
      ]
     },
     "execution_count": 25,
     "metadata": {},
     "output_type": "execute_result"
    }
   ],
   "source": [
    "X = [\"<=30\", \"low\", \"no\", \"fair\"] # age, income, student, credit_rating\n",
    "predict(X)"
   ]
  },
  {
   "cell_type": "code",
   "execution_count": 35,
   "metadata": {},
   "outputs": [
    {
     "name": "stdout",
     "output_type": "stream",
     "text": [
      "0.395325145860607\n"
     ]
    },
    {
     "data": {
      "text/plain": [
       "('yes', 0.395325145860607)"
      ]
     },
     "execution_count": 35,
     "metadata": {},
     "output_type": "execute_result"
    }
   ],
   "source": [
    "X = [\"31...40\", \"medium\", \"yes\", \"excellent\"]\n",
    "predict(X)"
   ]
  },
  {
   "cell_type": "code",
   "execution_count": null,
   "metadata": {},
   "outputs": [],
   "source": []
  }
 ],
 "metadata": {
  "kernelspec": {
   "display_name": ".venv",
   "language": "python",
   "name": "python3"
  },
  "language_info": {
   "codemirror_mode": {
    "name": "ipython",
    "version": 3
   },
   "file_extension": ".py",
   "mimetype": "text/x-python",
   "name": "python",
   "nbconvert_exporter": "python",
   "pygments_lexer": "ipython3",
   "version": "3.11.9"
  }
 },
 "nbformat": 4,
 "nbformat_minor": 2
}
