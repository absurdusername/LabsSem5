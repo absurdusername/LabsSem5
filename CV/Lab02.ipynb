{
 "cells": [
  {
   "cell_type": "code",
   "execution_count": 8,
   "id": "initial_id",
   "metadata": {
    "ExecuteTime": {
     "end_time": "2024-08-02T09:12:32.173452Z",
     "start_time": "2024-08-02T09:12:31.960999Z"
    },
    "collapsed": true
   },
   "outputs": [],
   "source": [
    "import cv2\n",
    "import numpy as np"
   ]
  },
  {
   "cell_type": "code",
   "execution_count": 32,
   "id": "2f615c12c671189e",
   "metadata": {
    "ExecuteTime": {
     "end_time": "2024-08-02T09:21:12.846587Z",
     "start_time": "2024-08-02T09:21:12.835906Z"
    }
   },
   "outputs": [],
   "source": [
    "path = 'data/orion.png'\n",
    "img = cv2.imread(path, 0)"
   ]
  },
  {
   "cell_type": "code",
   "execution_count": 53,
   "id": "f276930e",
   "metadata": {},
   "outputs": [],
   "source": [
    "def display(title, *args):\n",
    "    vis = np.concat(args, axis=1)\n",
    "    cv2.imshow(title, vis)\n",
    "    cv2.waitKey(0)\n",
    "    cv2.destroyAllWindows()\n",
    "    cv2.waitKey(1)"
   ]
  },
  {
   "cell_type": "markdown",
   "id": "badfac0f",
   "metadata": {},
   "source": [
    "### Image Negative"
   ]
  },
  {
   "cell_type": "code",
   "execution_count": 34,
   "id": "fc4266ab",
   "metadata": {},
   "outputs": [],
   "source": [
    "negative = 255 - img\n",
    "display(\"Negative\", negative)"
   ]
  },
  {
   "cell_type": "markdown",
   "id": "5febc97e",
   "metadata": {},
   "source": [
    "### Log transform\n",
    "Essentially brightens a dark image.\n",
    "\n",
    "$s = c \\log(1 + r)$"
   ]
  },
  {
   "cell_type": "code",
   "execution_count": 48,
   "id": "b3768723",
   "metadata": {},
   "outputs": [],
   "source": [
    "c = 1.0\n",
    "log_transformed = c * np.log(1 + img / 255)\n",
    "log_transformed = (255 * log_transformed).astype(np.uint8) # convert to integer representation\n",
    "display(\"Log transformed\", img, log_transformed)"
   ]
  },
  {
   "cell_type": "markdown",
   "id": "70fac117",
   "metadata": {},
   "source": [
    "### Power law (gamma) transform\n",
    "\n",
    "$ s = c r ^ \\gamma $, where $c$ and $\\gamma$ are positive constants. \n",
    "\n",
    "A variety of transformations can be obtained by simply varying $\\gamma$. Curves generated with $\\gamma < 1$ have the opposite effect to those generated with $\\gamma > 1$."
   ]
  },
  {
   "cell_type": "code",
   "execution_count": 54,
   "id": "6e88e0d8",
   "metadata": {},
   "outputs": [],
   "source": [
    "gs = [0.25, 0.5, 1, 1.5, 2]\n",
    "for gamma in gs:\n",
    "    gamma_corrected = 255 * (img / 255) ** gamma\n",
    "    gamma_corrected = gamma_corrected.astype(np.uint8)\n",
    "    display(f\"gamma = {gamma}\", img, gamma_corrected)"
   ]
  },
  {
   "cell_type": "markdown",
   "id": "7790bf46",
   "metadata": {},
   "source": [
    "## Piecewise-linear functions"
   ]
  },
  {
   "cell_type": "markdown",
   "id": "8c199c21",
   "metadata": {},
   "source": [
    "### Contrast stretching"
   ]
  },
  {
   "cell_type": "code",
   "execution_count": null,
   "id": "e7bcf97b",
   "metadata": {},
   "outputs": [],
   "source": [
    "def F(pixel, r1, s1, r2, s2):\n",
    "    if 0 <= pixel < r1:\n",
    "        return (s1 / r1) * pixel\n",
    "    elif r1 <= pixel < r2:\n",
    "        return ((s2 - s1) / (r2 - r1)) * (pixel - r1) + s1\n",
    "    else:\n",
    "        return ((255 - s2) / (255 - r2)) * (pixel - r2) + s2\n",
    "    \n",
    "F_vec = np.vectorize(F)\n",
    "constrast_stretched = F_vec(img, 70, 0, 140, 255)\n",
    "display(\"High constast\", constrast_stretched)"
   ]
  },
  {
   "cell_type": "markdown",
   "id": "62e8608e",
   "metadata": {},
   "source": [
    "### Intensity-level slicing\n",
    "Also known as gray-level slicing"
   ]
  },
  {
   "cell_type": "code",
   "execution_count": null,
   "id": "4fdc226d",
   "metadata": {},
   "outputs": [],
   "source": [
    "def F(pixel, a, b):\n",
    "    if a <= pixel <= b:\n",
    "        return 255\n",
    "    return 0\n",
    "\n",
    "F_vec = np.vectorize(F)\n",
    "intensity_slice = F_vec(img, 50, 150).astype(np.uint8)\n",
    "display(\"Intensity slice\", intensity_slice)"
   ]
  }
 ],
 "metadata": {
  "kernelspec": {
   "display_name": "Python 3",
   "language": "python",
   "name": "python3"
  },
  "language_info": {
   "codemirror_mode": {
    "name": "ipython",
    "version": 3
   },
   "file_extension": ".py",
   "mimetype": "text/x-python",
   "name": "python",
   "nbconvert_exporter": "python",
   "pygments_lexer": "ipython3",
   "version": "3.11.9"
  }
 },
 "nbformat": 4,
 "nbformat_minor": 5
}
