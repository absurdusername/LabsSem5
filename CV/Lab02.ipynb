{
 "cells": [
  {
   "cell_type": "code",
   "execution_count": 48,
   "id": "initial_id",
   "metadata": {
    "ExecuteTime": {
     "end_time": "2024-08-02T09:12:32.173452Z",
     "start_time": "2024-08-02T09:12:31.960999Z"
    },
    "collapsed": true
   },
   "outputs": [],
   "source": [
    "import cv2\n",
    "import numpy as np"
   ]
  },
  {
   "cell_type": "code",
   "execution_count": 49,
   "id": "2f615c12c671189e",
   "metadata": {
    "ExecuteTime": {
     "end_time": "2024-08-02T09:21:12.846587Z",
     "start_time": "2024-08-02T09:21:12.835906Z"
    }
   },
   "outputs": [],
   "source": [
    "path = './test.jpg'\n",
    "img = cv2.imread(path, 0)"
   ]
  },
  {
   "cell_type": "code",
   "execution_count": 50,
   "id": "f276930e",
   "metadata": {},
   "outputs": [],
   "source": [
    "def display(title, image):\n",
    "    cv2.imshow(title, image)\n",
    "    cv2.waitKey(0)\n",
    "    cv2.destroyAllWindows()\n",
    "    # cv2.waitKey(1)"
   ]
  },
  {
   "cell_type": "markdown",
   "id": "badfac0f",
   "metadata": {},
   "source": [
    "### Image Negative"
   ]
  },
  {
   "cell_type": "code",
   "execution_count": 51,
   "id": "fc4266ab",
   "metadata": {},
   "outputs": [],
   "source": [
    "negative = 255 - img\n",
    "display(\"Negative\", negative)"
   ]
  },
  {
   "cell_type": "markdown",
   "id": "5febc97e",
   "metadata": {},
   "source": [
    "### Log transform\n",
    "Essentially brightens an image"
   ]
  },
  {
   "cell_type": "code",
   "execution_count": 69,
   "id": "b3768723",
   "metadata": {},
   "outputs": [
    {
     "name": "stderr",
     "output_type": "stream",
     "text": [
      "/var/folders/41/v7x6qrn91r5ccc86q_ps3c7c0000gn/T/ipykernel_53865/2377519716.py:6: RuntimeWarning: divide by zero encountered in log\n",
      "  log_transformed = c * np.log(1 + img)\n",
      "/var/folders/41/v7x6qrn91r5ccc86q_ps3c7c0000gn/T/ipykernel_53865/2377519716.py:9: RuntimeWarning: invalid value encountered in cast\n",
      "  log_transformed = log_transformed.astype(np.uint8)\n"
     ]
    }
   ],
   "source": [
    "# select a suitable constant c\n",
    "max_pixel = float(np.max(img))\n",
    "c = 255 / (np.log(1 + float(max_pixel)))  \n",
    "\n",
    "# apply log transform\n",
    "log_transformed = c * np.log(1 + img)  \n",
    "\n",
    "# convert float to int\n",
    "log_transformed = log_transformed.astype(np.uint8) \n",
    " \n",
    "display(\"Log transformed\", log_transformed)\n"
   ]
  },
  {
   "cell_type": "code",
   "execution_count": null,
   "id": "70fac117",
   "metadata": {},
   "outputs": [],
   "source": []
  }
 ],
 "metadata": {
  "kernelspec": {
   "display_name": "Python 3",
   "language": "python",
   "name": "python3"
  },
  "language_info": {
   "codemirror_mode": {
    "name": "ipython",
    "version": 3
   },
   "file_extension": ".py",
   "mimetype": "text/x-python",
   "name": "python",
   "nbconvert_exporter": "python",
   "pygments_lexer": "ipython3",
   "version": "3.12.4"
  }
 },
 "nbformat": 4,
 "nbformat_minor": 5
}
