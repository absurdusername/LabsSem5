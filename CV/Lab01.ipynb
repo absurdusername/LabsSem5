{
 "cells": [
  {
   "cell_type": "code",
   "execution_count": 16,
   "id": "initial_id",
   "metadata": {
    "ExecuteTime": {
     "end_time": "2024-07-25T10:48:19.335555Z",
     "start_time": "2024-07-25T10:48:19.332818Z"
    },
    "collapsed": true
   },
   "outputs": [],
   "source": [
    "import cv2"
   ]
  },
  {
   "cell_type": "markdown",
   "id": "b2ce1657633bf287",
   "metadata": {},
   "source": [
    "### Read, display, and write an image\n",
    "\n",
    "For the second argument to `imread()`, pass 0 for greyscale, 1 for colored, and -1 for unchanged."
   ]
  },
  {
   "cell_type": "code",
   "execution_count": 17,
   "id": "fc2c1239b9806cda",
   "metadata": {
    "ExecuteTime": {
     "end_time": "2024-07-25T10:48:19.358287Z",
     "start_time": "2024-07-25T10:48:19.352820Z"
    }
   },
   "outputs": [],
   "source": [
    "test_image_path = './test.jpg'\n",
    "greyscale_image = cv2.imread(test_image_path, 0) # reads a greyscale image"
   ]
  },
  {
   "cell_type": "code",
   "execution_count": 18,
   "id": "96a7f772b4f294f9",
   "metadata": {
    "ExecuteTime": {
     "end_time": "2024-07-25T10:48:21.820840Z",
     "start_time": "2024-07-25T10:48:19.359821Z"
    }
   },
   "outputs": [
    {
     "data": {
      "text/plain": [
       "-1"
      ]
     },
     "execution_count": 18,
     "metadata": {},
     "output_type": "execute_result"
    }
   ],
   "source": [
    "cv2.imshow('title', greyscale_image) # displays the image in a popup window\n",
    "cv2.waitKey(0) # waits indefinitely for a keystore \n",
    "cv2.destroyAllWindows() # closes the window\n",
    "cv2.waitKey(1) # weird bug, window didn't close, StackOverflow-suggested fix"
   ]
  },
  {
   "cell_type": "markdown",
   "id": "8571d7dcc7b4c7e7",
   "metadata": {},
   "source": [
    "### Read and display a video file\n",
    "\n",
    "https://docs.opencv.org/4.x/dd/d43/tutorial_py_video_display.html\n",
    "\n",
    "Pass 0 to `VideoCapture()` to stream the webcam, else pass the path to a video file.\n",
    "\n",
    "`waitKey()` returns the key pressed, if any."
   ]
  },
  {
   "cell_type": "code",
   "execution_count": 19,
   "id": "d6a64a6a23feeead",
   "metadata": {
    "ExecuteTime": {
     "end_time": "2024-07-25T10:48:25.117122Z",
     "start_time": "2024-07-25T10:48:21.822155Z"
    }
   },
   "outputs": [
    {
     "data": {
      "text/plain": [
       "-1"
      ]
     },
     "execution_count": 19,
     "metadata": {},
     "output_type": "execute_result"
    }
   ],
   "source": [
    "cap = cv2.VideoCapture(0)\n",
    "\n",
    "if not cap.isOpened():\n",
    "    print('Cannot open camera')\n",
    "    exit()\n",
    "\n",
    "while True:\n",
    "    success, frame = cap.read()\n",
    "    \n",
    "    if not success:\n",
    "        print(\"Couldn't receive the next frame...\")\n",
    "        break\n",
    "    \n",
    "    cv2.imshow('frame', frame)\n",
    "    \n",
    "    if cv2.waitKey(1) == ord('q'): \n",
    "        break\n",
    "\n",
    "cap.release()\n",
    "cv2.destroyAllWindows()\n",
    "cv2.waitKey(1)"
   ]
  },
  {
   "cell_type": "markdown",
   "id": "3219fb98818e24f3",
   "metadata": {},
   "source": [
    "### Accessing the BGR values for a pixel\n",
    "\n",
    "`image[row][col]` returns a triplet of BGR values for colored images.\n",
    "\n",
    "Alternatively, type `image[row, col]` or `image[row, col, index]`."
   ]
  },
  {
   "cell_type": "code",
   "execution_count": 20,
   "id": "9646f483245b4d7b",
   "metadata": {
    "ExecuteTime": {
     "end_time": "2024-07-25T10:48:25.127433Z",
     "start_time": "2024-07-25T10:48:25.119614Z"
    }
   },
   "outputs": [
    {
     "data": {
      "text/plain": [
       "array([ 86, 164, 241], dtype=uint8)"
      ]
     },
     "execution_count": 20,
     "metadata": {},
     "output_type": "execute_result"
    }
   ],
   "source": [
    "image = cv2.imread(test_image_path)\n",
    "image[10, 10]  "
   ]
  },
  {
   "cell_type": "markdown",
   "id": "c5f4e5119ba145f8",
   "metadata": {},
   "source": [
    "### Drawing a rectangle\n",
    "\n",
    "https://docs.opencv.org/4.x/dc/da5/tutorial_py_drawing_functions.html"
   ]
  },
  {
   "cell_type": "code",
   "execution_count": 21,
   "id": "4fbee57f30c555c3",
   "metadata": {
    "ExecuteTime": {
     "end_time": "2024-07-25T10:48:25.234893Z",
     "start_time": "2024-07-25T10:48:25.129793Z"
    }
   },
   "outputs": [
    {
     "data": {
      "text/plain": [
       "-1"
      ]
     },
     "execution_count": 21,
     "metadata": {},
     "output_type": "execute_result"
    }
   ],
   "source": [
    "new_image = cv2.rectangle(image, (10, 20), (100, 200), (0, 255, 0), 2)\n",
    "# (top-left, bottom-right, color, thickness)\n",
    "\n",
    "cv2.imshow('rectangle', new_image)\n",
    "cv2.waitKey(0)\n",
    "cv2.destroyAllWindows()\n",
    "cv2.waitKey(1)"
   ]
  }
 ],
 "metadata": {
  "kernelspec": {
   "display_name": "Python 3",
   "language": "python",
   "name": "python3"
  },
  "language_info": {
   "codemirror_mode": {
    "name": "ipython",
    "version": 2
   },
   "file_extension": ".py",
   "mimetype": "text/x-python",
   "name": "python",
   "nbconvert_exporter": "python",
   "pygments_lexer": "ipython2",
   "version": "3.12.4"
  }
 },
 "nbformat": 4,
 "nbformat_minor": 5
}
